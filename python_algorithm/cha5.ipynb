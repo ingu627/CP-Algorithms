{
 "cells": [
  {
   "cell_type": "markdown",
   "metadata": {
    "collapsed": false
   },
   "source": [
    "- **탐색** : 많은 양의 데이터 중에서 원하는 데이터를 찾는 과정\n",
    "- **자료구조** : 데이터를 표현하고 관리하고 처리하기 위한 구조\n",
    "  - 삽입(push) : 데이터를 삽입한다.\n",
    "  - 삭제(pop) : 데이터를 삭제한다.\n",
    "\n",
    "- **스택**을 FILO(First In Last Out)라고 한다. (`박스`)\n",
    "  - `append()`는 리스트의 가장 뒤쪽에 데이터를 삽입한다.\n",
    "  - `pop()`는 리스트의 가장 뒤쪽에서 데이터를 꺼낸다.\n",
    "- **큐**를 FIFO(First In First Out)라고 한다. (`놀이공원 대기줄`)\n",
    "- **재귀함수**는 자기 자신을 다시 호출하는 함수를 의미한다."
   ]
  },
  {
   "cell_type": "markdown",
   "metadata": {},
   "source": [
    "- **DFS(Depth-First Search)**는 깊이 우선 탐색이라고도 하며, 그래프에서 깊은 부분을 우선적으로 탐색하는 알고리즘이다.\n",
    "  - 그래프 탐색이란 하나의 노드를 시작으로 다수의 노드를 방문하는 것을 말한다.\n",
    "  - 두 노드가 에지로 연결되어 있다면 두 노드는 **인접하다(adjacent)**라고 표현한다.\n",
    "- 프로그래밍에서 그래프는 크게 두 가지 방식으로 표현할 수 있다.\n",
    "  - **인접 행렬(Adjacency Matrix)**는 2차원 배열로 그래프의 연결 관계를 표현하는 방식이다.\n",
    "  - **인접 리스트(Adjacency List)**는 리스트로 그래프의 연결 관계를 표현하는 방식이다."
   ]
  },
  {
   "cell_type": "code",
   "execution_count": 2,
   "metadata": {},
   "outputs": [
    {
     "name": "stdout",
     "output_type": "stream",
     "text": [
      "반복적으로 구현 720\n",
      "반복적으로 구현 720\n"
     ]
    }
   ],
   "source": [
    "def factorial_iteration(n):\n",
    "    result = 1\n",
    "    for i in range(1, n+1):\n",
    "        result *= i\n",
    "    return result\n",
    "\n",
    "def factorial_recursive(n):\n",
    "    if n <= 1:\n",
    "        return 1\n",
    "    return n * factorial_recursive(n - 1)\n",
    "\n",
    "print('반복적으로 구현', factorial_iteration(6))\n",
    "print('반복적으로 구현', factorial_recursive(6))\n"
   ]
  },
  {
   "cell_type": "code",
   "execution_count": 1,
   "metadata": {},
   "outputs": [
    {
     "name": "stdout",
     "output_type": "stream",
     "text": [
      "[[0, 7, 5], [7, 0, 9999999], [5, 9999999, 0]]\n"
     ]
    }
   ],
   "source": [
    "INF = 9999999\n",
    "\n",
    "graph = [\n",
    "    [0, 7, 5],\n",
    "    [7, 0, INF],\n",
    "    [5, INF, 0]\n",
    "]\n",
    "\n",
    "print(graph)"
   ]
  },
  {
   "cell_type": "code",
   "execution_count": 2,
   "metadata": {},
   "outputs": [
    {
     "name": "stdout",
     "output_type": "stream",
     "text": [
      "[[(1, 7), (2, 5)], [(0, 7)], [(0, 5)]]\n"
     ]
    }
   ],
   "source": [
    "graph = [[] for _ in range(3)]\n",
    "\n",
    "graph[0].append((1,7))\n",
    "graph[0].append((2,5))\n",
    "\n",
    "graph[1].append((0,7))\n",
    "graph[2].append((0,5))\n",
    "\n",
    "print(graph)"
   ]
  },
  {
   "cell_type": "code",
   "execution_count": 3,
   "metadata": {},
   "outputs": [],
   "source": [
    "# DFS example\n",
    "\n",
    "# 값을 따로 저장하는 개념이 아니다.\n",
    "def dfs(graph, v, visited):\n",
    "    visited[v] = True\n",
    "    print(v, end=' ')\n",
    "    for i in graph[v]:\n",
    "        if not visited[i]:\n",
    "            dfs(graph, i, visited)\n"
   ]
  },
  {
   "cell_type": "code",
   "execution_count": 4,
   "metadata": {},
   "outputs": [
    {
     "name": "stdout",
     "output_type": "stream",
     "text": [
      "1 2 7 6 8 3 4 5 "
     ]
    }
   ],
   "source": [
    "# 각 노드가 연결된 정보를 리스트 자료형으로 표현\n",
    "graph = [\n",
    "    [],\n",
    "    [2, 3, 8], # node 1이 node 2,3,8 과 연결되어 있다.\n",
    "    [1, 7],\n",
    "    [1, 4, 5],\n",
    "    [3, 5],\n",
    "    [3, 4],\n",
    "    [7],\n",
    "    [2, 6, 8],\n",
    "    [1, 7]\n",
    "]\n",
    "\n",
    "visited = [False] * 9\n",
    "\n",
    "dfs(graph, 1, visited)"
   ]
  },
  {
   "cell_type": "code",
   "execution_count": 13,
   "metadata": {},
   "outputs": [
    {
     "name": "stdout",
     "output_type": "stream",
     "text": [
      "deque([1, 2])\n",
      "1\n",
      "deque([2])\n",
      "deque([2, 3])\n",
      "deque([3])\n",
      "<class 'collections.deque'>\n"
     ]
    }
   ],
   "source": [
    "from collections import deque\n",
    "\n",
    "queue = deque([1, 2]) # 안에 들어가는 건 iterable 이어야 한다.\n",
    "\n",
    "print(queue)\n",
    "print(queue.popleft())\n",
    "print(queue)\n",
    "queue.append(3)\n",
    "print(queue)\n",
    "queue.popleft()\n",
    "print(queue)\n",
    "print(type(queue))"
   ]
  },
  {
   "cell_type": "markdown",
   "metadata": {
    "collapsed": false
   },
   "source": [
    "- **BFS(Breath First Search)**는 너비 우선 탐색이라 하며, 가까운 노드부터 탐색하는 알고리즘이다.\n",
    "  - FIFO인 큐 자료구조를 사용하는 것이 일반적이다.\n",
    "  - deque 라이브러리를 사용한다."
   ]
  },
  {
   "cell_type": "code",
   "execution_count": 6,
   "metadata": {
    "collapsed": false
   },
   "outputs": [],
   "source": [
    "from collections import deque\n",
    "\n",
    "def bfs(graph, start, visited):\n",
    "    queue = deque([start])\n",
    "    visited[start] = True\n",
    "    \n",
    "    while queue:\n",
    "        v = queue.popleft()\n",
    "        print(v, end=' ')\n",
    "        \n",
    "        for i in graph[v]:\n",
    "            if not visited[i]:\n",
    "                queue.append(i)\n",
    "                visited[i] = True"
   ]
  },
  {
   "cell_type": "code",
   "execution_count": 7,
   "metadata": {},
   "outputs": [
    {
     "name": "stdout",
     "output_type": "stream",
     "text": [
      "1 2 3 8 7 4 5 6 "
     ]
    }
   ],
   "source": [
    "graph = [\n",
    "    [],\n",
    "    [2, 3, 8],\n",
    "    [1, 7],\n",
    "    [1, 4, 5],\n",
    "    [3, 5],\n",
    "    [3, 4],\n",
    "    [7],\n",
    "    [2, 6, 8],\n",
    "    [1, 7]\n",
    "]\n",
    "\n",
    "visited = [False] * 9\n",
    "\n",
    "bfs(graph, 1, visited)"
   ]
  },
  {
   "cell_type": "code",
   "execution_count": null,
   "metadata": {},
   "outputs": [],
   "source": []
  }
 ],
 "metadata": {
  "kernelspec": {
   "display_name": "Python 3.10.8 64-bit",
   "language": "python",
   "name": "python3"
  },
  "language_info": {
   "codemirror_mode": {
    "name": "ipython",
    "version": 3
   },
   "file_extension": ".py",
   "mimetype": "text/x-python",
   "name": "python",
   "nbconvert_exporter": "python",
   "pygments_lexer": "ipython3",
   "version": "3.10.8"
  },
  "vscode": {
   "interpreter": {
    "hash": "b0fa6594d8f4cbf19f97940f81e996739fb7646882a419484c72d19e05852a7e"
   }
  }
 },
 "nbformat": 4,
 "nbformat_minor": 0
}
